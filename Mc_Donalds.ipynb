{
 "cells": [
  {
   "cell_type": "markdown",
   "id": "3192917d",
   "metadata": {},
   "source": [
    "## Importing Librarries"
   ]
  },
  {
   "cell_type": "code",
   "execution_count": 1,
   "id": "b88e3ad9",
   "metadata": {},
   "outputs": [],
   "source": [
    "import numpy as np\n",
    "import pandas as pd\n",
    "import matplotlib.pyplot as plt\n",
    "import seaborn as sns\n",
    "import warnings\n",
    "warnings.filterwarnings(\"ignore\")"
   ]
  },
  {
   "cell_type": "markdown",
   "id": "dcbc66e7",
   "metadata": {},
   "source": [
    "## Importing Dataset"
   ]
  },
  {
   "cell_type": "code",
   "execution_count": 2,
   "id": "7ffe1b1a",
   "metadata": {},
   "outputs": [
    {
     "name": "stdout",
     "output_type": "stream",
     "text": [
      "['yummy', 'convenient', 'spicy', 'fattening', 'greasy', 'fast', 'cheap', 'tasty', 'expensive', 'healthy', 'disgusting', 'Like', 'Age', 'VisitFrequency', 'Gender']\n"
     ]
    }
   ],
   "source": [
    "mcdonalds = pd.read_csv(\"mcdonalds.csv\")\n",
    "print(mcdonalds.columns.tolist())"
   ]
  },
  {
   "cell_type": "code",
   "execution_count": 3,
   "id": "d32b0e5a",
   "metadata": {},
   "outputs": [
    {
     "data": {
      "text/plain": [
       "(1453, 15)"
      ]
     },
     "execution_count": 3,
     "metadata": {},
     "output_type": "execute_result"
    }
   ],
   "source": [
    "mcdonalds.shape"
   ]
  },
  {
   "cell_type": "code",
   "execution_count": 4,
   "id": "19f7f6ad",
   "metadata": {},
   "outputs": [
    {
     "data": {
      "text/html": [
       "<div>\n",
       "<style scoped>\n",
       "    .dataframe tbody tr th:only-of-type {\n",
       "        vertical-align: middle;\n",
       "    }\n",
       "\n",
       "    .dataframe tbody tr th {\n",
       "        vertical-align: top;\n",
       "    }\n",
       "\n",
       "    .dataframe thead th {\n",
       "        text-align: right;\n",
       "    }\n",
       "</style>\n",
       "<table border=\"1\" class=\"dataframe\">\n",
       "  <thead>\n",
       "    <tr style=\"text-align: right;\">\n",
       "      <th></th>\n",
       "      <th>yummy</th>\n",
       "      <th>convenient</th>\n",
       "      <th>spicy</th>\n",
       "      <th>fattening</th>\n",
       "      <th>greasy</th>\n",
       "      <th>fast</th>\n",
       "      <th>cheap</th>\n",
       "      <th>tasty</th>\n",
       "      <th>expensive</th>\n",
       "      <th>healthy</th>\n",
       "      <th>disgusting</th>\n",
       "      <th>Like</th>\n",
       "      <th>Age</th>\n",
       "      <th>VisitFrequency</th>\n",
       "      <th>Gender</th>\n",
       "    </tr>\n",
       "  </thead>\n",
       "  <tbody>\n",
       "    <tr>\n",
       "      <th>0</th>\n",
       "      <td>No</td>\n",
       "      <td>Yes</td>\n",
       "      <td>No</td>\n",
       "      <td>Yes</td>\n",
       "      <td>No</td>\n",
       "      <td>Yes</td>\n",
       "      <td>Yes</td>\n",
       "      <td>No</td>\n",
       "      <td>Yes</td>\n",
       "      <td>No</td>\n",
       "      <td>No</td>\n",
       "      <td>-3</td>\n",
       "      <td>61</td>\n",
       "      <td>Every three months</td>\n",
       "      <td>Female</td>\n",
       "    </tr>\n",
       "    <tr>\n",
       "      <th>1</th>\n",
       "      <td>Yes</td>\n",
       "      <td>Yes</td>\n",
       "      <td>No</td>\n",
       "      <td>Yes</td>\n",
       "      <td>Yes</td>\n",
       "      <td>Yes</td>\n",
       "      <td>Yes</td>\n",
       "      <td>Yes</td>\n",
       "      <td>Yes</td>\n",
       "      <td>No</td>\n",
       "      <td>No</td>\n",
       "      <td>+2</td>\n",
       "      <td>51</td>\n",
       "      <td>Every three months</td>\n",
       "      <td>Female</td>\n",
       "    </tr>\n",
       "    <tr>\n",
       "      <th>2</th>\n",
       "      <td>No</td>\n",
       "      <td>Yes</td>\n",
       "      <td>Yes</td>\n",
       "      <td>Yes</td>\n",
       "      <td>Yes</td>\n",
       "      <td>Yes</td>\n",
       "      <td>No</td>\n",
       "      <td>Yes</td>\n",
       "      <td>Yes</td>\n",
       "      <td>Yes</td>\n",
       "      <td>No</td>\n",
       "      <td>+1</td>\n",
       "      <td>62</td>\n",
       "      <td>Every three months</td>\n",
       "      <td>Female</td>\n",
       "    </tr>\n",
       "  </tbody>\n",
       "</table>\n",
       "</div>"
      ],
      "text/plain": [
       "  yummy convenient spicy fattening greasy fast cheap tasty expensive healthy  \\\n",
       "0    No        Yes    No       Yes     No  Yes   Yes    No       Yes      No   \n",
       "1   Yes        Yes    No       Yes    Yes  Yes   Yes   Yes       Yes      No   \n",
       "2    No        Yes   Yes       Yes    Yes  Yes    No   Yes       Yes     Yes   \n",
       "\n",
       "  disgusting Like  Age      VisitFrequency  Gender  \n",
       "0         No   -3   61  Every three months  Female  \n",
       "1         No   +2   51  Every three months  Female  \n",
       "2         No   +1   62  Every three months  Female  "
      ]
     },
     "execution_count": 4,
     "metadata": {},
     "output_type": "execute_result"
    }
   ],
   "source": [
    "mcdonalds.head(3)"
   ]
  },
  {
   "cell_type": "code",
   "execution_count": 5,
   "id": "036e330d",
   "metadata": {},
   "outputs": [
    {
     "name": "stdout",
     "output_type": "stream",
     "text": [
      "<class 'pandas.core.frame.DataFrame'>\n",
      "RangeIndex: 1453 entries, 0 to 1452\n",
      "Data columns (total 15 columns):\n",
      " #   Column          Non-Null Count  Dtype \n",
      "---  ------          --------------  ----- \n",
      " 0   yummy           1453 non-null   object\n",
      " 1   convenient      1453 non-null   object\n",
      " 2   spicy           1453 non-null   object\n",
      " 3   fattening       1453 non-null   object\n",
      " 4   greasy          1453 non-null   object\n",
      " 5   fast            1453 non-null   object\n",
      " 6   cheap           1453 non-null   object\n",
      " 7   tasty           1453 non-null   object\n",
      " 8   expensive       1453 non-null   object\n",
      " 9   healthy         1453 non-null   object\n",
      " 10  disgusting      1453 non-null   object\n",
      " 11  Like            1453 non-null   object\n",
      " 12  Age             1453 non-null   int64 \n",
      " 13  VisitFrequency  1453 non-null   object\n",
      " 14  Gender          1453 non-null   object\n",
      "dtypes: int64(1), object(14)\n",
      "memory usage: 170.4+ KB\n"
     ]
    }
   ],
   "source": [
    "mcdonalds.info()"
   ]
  },
  {
   "cell_type": "code",
   "execution_count": 6,
   "id": "7d54ca6b",
   "metadata": {},
   "outputs": [
    {
     "data": {
      "text/plain": [
       "yummy             0\n",
       "convenient        0\n",
       "spicy             0\n",
       "fattening         0\n",
       "greasy            0\n",
       "fast              0\n",
       "cheap             0\n",
       "tasty             0\n",
       "expensive         0\n",
       "healthy           0\n",
       "disgusting        0\n",
       "Like              0\n",
       "Age               0\n",
       "VisitFrequency    0\n",
       "Gender            0\n",
       "dtype: int64"
      ]
     },
     "execution_count": 6,
     "metadata": {},
     "output_type": "execute_result"
    }
   ],
   "source": [
    "mcdonalds.isnull().sum()"
   ]
  },
  {
   "cell_type": "code",
   "execution_count": 7,
   "id": "b45cec89",
   "metadata": {},
   "outputs": [
    {
     "name": "stdout",
     "output_type": "stream",
     "text": [
      "[0.55 0.91 0.09 0.87 0.53 0.9  0.6  0.64 0.36 0.2  0.24]\n"
     ]
    }
   ],
   "source": [
    "MD_x = mcdonalds.iloc[:, 0:11].values\n",
    "\n",
    "# Handle string values in the \"Like\" column\n",
    "MD_x[MD_x[:, 10] == \"I love it!+5\", 10] = \"5\"\n",
    "\n",
    "MD_x = (MD_x == \"Yes\").astype(int)\n",
    "col_means = np.round(np.mean(MD_x, axis=0), 2)\n",
    "print(col_means)"
   ]
  },
  {
   "cell_type": "markdown",
   "id": "b24b3a34",
   "metadata": {},
   "source": [
    "## PCA"
   ]
  },
  {
   "cell_type": "code",
   "execution_count": 8,
   "id": "ba56b525",
   "metadata": {},
   "outputs": [
    {
     "name": "stdout",
     "output_type": "stream",
     "text": [
      "    Standard deviation  Proportion of Variance  Cumulative Proportion\n",
      "0             0.756789                0.299447               0.299447\n",
      "1             0.607246                0.192797               0.492244\n",
      "2             0.504446                0.133045               0.625290\n",
      "3             0.398661                0.083096               0.708386\n",
      "4             0.337289                0.059481               0.767866\n",
      "5             0.310168                0.050300               0.818166\n",
      "6             0.289598                0.043849               0.862015\n",
      "7             0.275027                0.039548               0.901563\n",
      "8             0.265160                0.036761               0.938323\n",
      "9             0.248756                0.032353               0.970677\n",
      "10            0.236821                0.029323               1.000000\n"
     ]
    }
   ],
   "source": [
    "from sklearn.decomposition import PCA\n",
    "pca = PCA()\n",
    "MD_pca = pca.fit_transform(MD_x)\n",
    "\n",
    "\n",
    "explained_variance = np.var(MD_pca, axis=0)\n",
    "explained_variance_ratio = explained_variance / np.sum(explained_variance)\n",
    "cumulative_proportion = np.cumsum(explained_variance_ratio)\n",
    "\n",
    "# Get the summary\n",
    "summary = pd.DataFrame({\n",
    "    'Standard deviation': np.sqrt(explained_variance),\n",
    "    'Proportion of Variance': explained_variance_ratio,\n",
    "    'Cumulative Proportion': cumulative_proportion\n",
    "})\n",
    "print(summary)\n",
    "\n",
    "\n"
   ]
  },
  {
   "cell_type": "code",
   "execution_count": 9,
   "id": "2cf974e4",
   "metadata": {},
   "outputs": [
    {
     "name": "stdout",
     "output_type": "stream",
     "text": [
      "\n",
      "Principal Components:\n",
      "         pc1       pc2       pc3       pc4       pc5       pc6       pc7  \\\n",
      "0  -0.476933 -0.155332 -0.006356  0.116232  0.304443 -0.108493 -0.337186   \n",
      "1   0.363790  0.016414  0.018809 -0.034094 -0.063839 -0.086972 -0.610633   \n",
      "2  -0.304444 -0.062515 -0.037019 -0.322359 -0.802373 -0.064642 -0.149310   \n",
      "3   0.055162 -0.142425  0.197619 -0.354139  0.253960 -0.097363  0.118958   \n",
      "4  -0.307535  0.277608  0.070620 -0.073405  0.361399  0.107930 -0.128973   \n",
      "5   0.170738 -0.347830 -0.355087 -0.406515  0.209347 -0.594632 -0.103241   \n",
      "6  -0.280519 -0.059738  0.707637 -0.385943  0.036170 -0.086846 -0.040449   \n",
      "7   0.013041 -0.113079  0.375934  0.589622 -0.138241 -0.627799  0.140060   \n",
      "8   0.572403 -0.018465  0.400280 -0.160512 -0.002847  0.166197  0.076069   \n",
      "9  -0.110284 -0.665818 -0.075634 -0.005338  0.008707  0.239532  0.428087   \n",
      "10  0.045439 -0.541616  0.141730  0.250910  0.001642  0.339265 -0.489283   \n",
      "\n",
      "         pc8       pc9      pc10      pc11  \n",
      "0  -0.471514  0.329042 -0.213711  0.374753  \n",
      "1   0.307318  0.601286  0.076593 -0.139656  \n",
      "2  -0.287265  0.024397  0.192051 -0.088571  \n",
      "3  -0.002547  0.067816  0.763488  0.369539  \n",
      "4  -0.210899 -0.003125  0.287846 -0.729209  \n",
      "5  -0.076914 -0.261342 -0.178226 -0.210878  \n",
      "6   0.360453 -0.068385 -0.349616 -0.026792  \n",
      "7  -0.072792  0.029539  0.176303 -0.167181  \n",
      "8  -0.639086  0.066996 -0.185572 -0.072483  \n",
      "9   0.079184  0.454399 -0.038117 -0.289592  \n",
      "10  0.019552 -0.490069  0.157608 -0.040662  \n"
     ]
    }
   ],
   "source": [
    "print(\"\\nPrincipal Components:\")\n",
    "names = ['pc1','pc2','pc3','pc4','pc5','pc6','pc7','pc8','pc9','pc10','pc11']\n",
    "print(pd.DataFrame(pca.components_, columns=names))"
   ]
  },
  {
   "cell_type": "code",
   "execution_count": 10,
   "id": "e326e839",
   "metadata": {},
   "outputs": [
    {
     "data": {
      "image/png": "[encoded data removed]",
      "text/plain": [
       "<Figure size 432x288 with 1 Axes>"
      ]
     },
     "metadata": {
      "needs_background": "light"
     },
     "output_type": "display_data"
    }
   ],
   "source": [
    "plt.scatter(MD_pca[:, 0], MD_pca[:, 1], c='grey')\n",
    "plt.xlabel('Principal Component 1')\n",
    "plt.ylabel('Principal Component 2')\n",
    "plt.title('PCA Plot')\n",
    "plt.show()"
   ]
  },
  {
   "cell_type": "markdown",
   "id": "713c586e",
   "metadata": {},
   "source": [
    "## Encoding Categorical Variables"
   ]
  },
  {
   "cell_type": "code",
   "execution_count": 11,
   "id": "c8b5ebc9",
   "metadata": {},
   "outputs": [
    {
     "data": {
      "text/html": [
       "<div>\n",
       "<style scoped>\n",
       "    .dataframe tbody tr th:only-of-type {\n",
       "        vertical-align: middle;\n",
       "    }\n",
       "\n",
       "    .dataframe tbody tr th {\n",
       "        vertical-align: top;\n",
       "    }\n",
       "\n",
       "    .dataframe thead th {\n",
       "        text-align: right;\n",
       "    }\n",
       "</style>\n",
       "<table border=\"1\" class=\"dataframe\">\n",
       "  <thead>\n",
       "    <tr style=\"text-align: right;\">\n",
       "      <th></th>\n",
       "      <th>yummy</th>\n",
       "      <th>convenient</th>\n",
       "      <th>spicy</th>\n",
       "      <th>fattening</th>\n",
       "      <th>greasy</th>\n",
       "      <th>fast</th>\n",
       "      <th>cheap</th>\n",
       "      <th>tasty</th>\n",
       "      <th>expensive</th>\n",
       "      <th>healthy</th>\n",
       "      <th>disgusting</th>\n",
       "      <th>Like</th>\n",
       "      <th>Age</th>\n",
       "      <th>VisitFrequency</th>\n",
       "      <th>Gender</th>\n",
       "    </tr>\n",
       "  </thead>\n",
       "  <tbody>\n",
       "    <tr>\n",
       "      <th>0</th>\n",
       "      <td>0</td>\n",
       "      <td>1</td>\n",
       "      <td>0</td>\n",
       "      <td>1</td>\n",
       "      <td>0</td>\n",
       "      <td>1</td>\n",
       "      <td>1</td>\n",
       "      <td>0</td>\n",
       "      <td>1</td>\n",
       "      <td>0</td>\n",
       "      <td>0</td>\n",
       "      <td>-3</td>\n",
       "      <td>61</td>\n",
       "      <td>Every three months</td>\n",
       "      <td>Female</td>\n",
       "    </tr>\n",
       "    <tr>\n",
       "      <th>1</th>\n",
       "      <td>1</td>\n",
       "      <td>1</td>\n",
       "      <td>0</td>\n",
       "      <td>1</td>\n",
       "      <td>1</td>\n",
       "      <td>1</td>\n",
       "      <td>1</td>\n",
       "      <td>1</td>\n",
       "      <td>1</td>\n",
       "      <td>0</td>\n",
       "      <td>0</td>\n",
       "      <td>+2</td>\n",
       "      <td>51</td>\n",
       "      <td>Every three months</td>\n",
       "      <td>Female</td>\n",
       "    </tr>\n",
       "    <tr>\n",
       "      <th>2</th>\n",
       "      <td>0</td>\n",
       "      <td>1</td>\n",
       "      <td>1</td>\n",
       "      <td>1</td>\n",
       "      <td>1</td>\n",
       "      <td>1</td>\n",
       "      <td>0</td>\n",
       "      <td>1</td>\n",
       "      <td>1</td>\n",
       "      <td>1</td>\n",
       "      <td>0</td>\n",
       "      <td>+1</td>\n",
       "      <td>62</td>\n",
       "      <td>Every three months</td>\n",
       "      <td>Female</td>\n",
       "    </tr>\n",
       "    <tr>\n",
       "      <th>3</th>\n",
       "      <td>1</td>\n",
       "      <td>1</td>\n",
       "      <td>0</td>\n",
       "      <td>1</td>\n",
       "      <td>1</td>\n",
       "      <td>1</td>\n",
       "      <td>1</td>\n",
       "      <td>1</td>\n",
       "      <td>0</td>\n",
       "      <td>0</td>\n",
       "      <td>1</td>\n",
       "      <td>+4</td>\n",
       "      <td>69</td>\n",
       "      <td>Once a week</td>\n",
       "      <td>Female</td>\n",
       "    </tr>\n",
       "    <tr>\n",
       "      <th>4</th>\n",
       "      <td>0</td>\n",
       "      <td>1</td>\n",
       "      <td>0</td>\n",
       "      <td>1</td>\n",
       "      <td>1</td>\n",
       "      <td>1</td>\n",
       "      <td>1</td>\n",
       "      <td>0</td>\n",
       "      <td>0</td>\n",
       "      <td>1</td>\n",
       "      <td>0</td>\n",
       "      <td>+2</td>\n",
       "      <td>49</td>\n",
       "      <td>Once a month</td>\n",
       "      <td>Male</td>\n",
       "    </tr>\n",
       "  </tbody>\n",
       "</table>\n",
       "</div>"
      ],
      "text/plain": [
       "   yummy  convenient  spicy  fattening  greasy  fast  cheap  tasty  expensive  \\\n",
       "0      0           1      0          1       0     1      1      0          1   \n",
       "1      1           1      0          1       1     1      1      1          1   \n",
       "2      0           1      1          1       1     1      0      1          1   \n",
       "3      1           1      0          1       1     1      1      1          0   \n",
       "4      0           1      0          1       1     1      1      0          0   \n",
       "\n",
       "   healthy  disgusting Like  Age      VisitFrequency  Gender  \n",
       "0        0           0   -3   61  Every three months  Female  \n",
       "1        0           0   +2   51  Every three months  Female  \n",
       "2        1           0   +1   62  Every three months  Female  \n",
       "3        0           1   +4   69         Once a week  Female  \n",
       "4        1           0   +2   49        Once a month    Male  "
      ]
     },
     "execution_count": 11,
     "metadata": {},
     "output_type": "execute_result"
    }
   ],
   "source": [
    "from sklearn.preprocessing import LabelEncoder\n",
    "le = LabelEncoder()\n",
    "for column in mcdonalds.columns[:11]:\n",
    "    mcdonalds[column] = le.fit_transform(mcdonalds[column])\n",
    "mcdonalds.head(5)"
   ]
  },
  {
   "cell_type": "markdown",
   "id": "3caa4611",
   "metadata": {},
   "source": [
    "## K-means Clustering"
   ]
  },
  {
   "cell_type": "code",
   "execution_count": 12,
   "id": "2a1198c4",
   "metadata": {},
   "outputs": [
    {
     "data": {
      "image/png": "[encoded data removed]",
      "text/plain": [
       "<Figure size 432x288 with 1 Axes>"
      ]
     },
     "metadata": {
      "needs_background": "light"
     },
     "output_type": "display_data"
    }
   ],
   "source": [
    "# Perform K-means clustering\n",
    "from sklearn.cluster import KMeans\n",
    "k_values = range(2, 9)\n",
    "results = []\n",
    "for k in k_values:\n",
    "    kmeans = KMeans(n_clusters=k, random_state=1234)\n",
    "    kmeans.fit(MD_x)\n",
    "    results.append(kmeans)\n",
    "\n",
    "# Plot number of segments vs. within-cluster sum of squares\n",
    "plt.bar(k_values, [res.inertia_ for res in results])\n",
    "plt.xlabel(\"Number of segments\")\n",
    "plt.show()"
   ]
  },
  {
   "cell_type": "code",
   "execution_count": 13,
   "id": "65863bf8",
   "metadata": {},
   "outputs": [
    {
     "data": {
      "image/png": "[encoded data removed]",
      "text/plain": [
       "<Figure size 432x288 with 1 Axes>"
      ]
     },
     "metadata": {
      "needs_background": "light"
     },
     "output_type": "display_data"
    }
   ],
   "source": [
    "#  Select the KMeans model for Cluster 4 (assuming it's the fourth model in the 'results' list)\n",
    "cluster_4_kmeans = results[3]  # Adjust the index accordingly (Python uses 0-based indexing)\n",
    "\n",
    "# Get the cluster labels for Cluster 4\n",
    "cluster_4_labels = cluster_4_kmeans.labels_\n",
    "\n",
    "# Assuming you have MD_x as the preprocessed data (containing the same features as used in K-means)\n",
    "\n",
    "# Create a DataFrame with the cluster labels and the original data\n",
    "mcdonalds_clustered = pd.DataFrame(data=MD_x, columns=[f\"Feature_{i+1}\" for i in range(MD_x.shape[1])])\n",
    "mcdonalds_clustered[\"Cluster\"] = cluster_4_labels\n",
    "\n",
    "# Plot the histogram for the data points in Cluster 4\n",
    "cluster_4_data = mcdonalds_clustered[mcdonalds_clustered[\"Cluster\"] == 3][\"Feature_1\"]\n",
    "plt.hist(cluster_4_data, bins=20, range=(0, 1), color=\"grey\")\n",
    "plt.xlabel(\"Value\")\n",
    "plt.ylabel(\"Frequency\")\n",
    "plt.title(\"Histogram of Cluster 4\")\n",
    "plt.show()"
   ]
  },
  {
   "cell_type": "markdown",
   "id": "5290e932",
   "metadata": {},
   "source": [
    "## Guassian"
   ]
  },
  {
   "cell_type": "code",
   "execution_count": 14,
   "id": "4815df92",
   "metadata": {},
   "outputs": [
    {
     "name": "stdout",
     "output_type": "stream",
     "text": [
      "Model 2:\n",
      "GaussianMixture(n_components=2)\n",
      "Model 3:\n",
      "GaussianMixture(n_components=3)\n",
      "Model 4:\n",
      "GaussianMixture(n_components=4)\n",
      "Model 5:\n",
      "GaussianMixture(n_components=5)\n",
      "Model 6:\n",
      "GaussianMixture(n_components=6)\n",
      "Model 7:\n",
      "GaussianMixture(n_components=7)\n",
      "Model 8:\n",
      "GaussianMixture(n_components=8)\n"
     ]
    }
   ],
   "source": [
    "# Fit Gaussian mixture models for different number of components (2 to 8)\n",
    "from sklearn.mixture import GaussianMixture\n",
    "k_values = range(2, 9)\n",
    "models = []\n",
    "for k in k_values:\n",
    "    model = GaussianMixture(n_components=k)\n",
    "    model.fit(MD_x)\n",
    "    models.append(model)\n",
    "\n",
    "# Print the fitted mixture models\n",
    "for i, model in enumerate(models):\n",
    "    print(f\"Model {i+2}:\")\n",
    "    print(model)"
   ]
  },
  {
   "cell_type": "code",
   "execution_count": 15,
   "id": "0816f21c",
   "metadata": {},
   "outputs": [
    {
     "data": {
      "image/png": "[encoded data removed]",
      "text/plain": [
       "<Figure size 432x288 with 1 Axes>"
      ]
     },
     "metadata": {
      "needs_background": "light"
     },
     "output_type": "display_data"
    }
   ],
   "source": [
    "AIC = [model.aic(MD_x) for model in models]\n",
    "BIC = [model.bic(MD_x) for model in models]\n",
    "ICL = [model.lower_bound_ for model in models]\n",
    "plt.plot(k_values, AIC, label=\"AIC\")\n",
    "plt.plot(k_values, BIC, label=\"BIC\")\n",
    "plt.plot(k_values, ICL, label=\"ICL\")\n",
    "plt.ylabel(\"Value of information criteria\")\n",
    "plt.xlabel(\"Number of components\")\n",
    "plt.legend()\n",
    "plt.show()"
   ]
  },
  {
   "cell_type": "code",
   "execution_count": 16,
   "id": "d8255520",
   "metadata": {},
   "outputs": [
    {
     "name": "stdout",
     "output_type": "stream",
     "text": [
      "Mixture    0    1    2    3\n",
      "K-means                    \n",
      "0        103    2  391   17\n",
      "1         43    8    0  315\n",
      "2          0  217    0   25\n",
      "3         47   40  231   14\n"
     ]
    }
   ],
   "source": [
    "# Extract the model with the desired number of components\n",
    "desired_k = 4\n",
    "desired_model = models[desired_k - 2]\n",
    "\n",
    "# Obtain the cluster assignments from the desired model\n",
    "MD_m4_clusters = desired_model.predict(MD_x)\n",
    "\n",
    "# Compare cluster assignments from K-means and Gaussian mixture model\n",
    "kmeans = KMeans(n_clusters=desired_k, random_state=1234)\n",
    "kmeans_clusters = kmeans.fit_predict(MD_x)\n",
    "table = pd.crosstab(kmeans_clusters, MD_m4_clusters, rownames=[\"K-means\"], colnames=[\"Mixture\"])\n",
    "print(table)"
   ]
  },
  {
   "cell_type": "code",
   "execution_count": 17,
   "id": "9c4058bb",
   "metadata": {},
   "outputs": [
    {
     "name": "stdout",
     "output_type": "stream",
     "text": [
      "Mixture    0    1    2    3\n",
      "K-means                    \n",
      "0          0  199    0  314\n",
      "1          0   68  253   45\n",
      "2         34    4  202    2\n",
      "3        254   44    0   34\n"
     ]
    }
   ],
   "source": [
    "# Fit a Gaussian mixture model with fixed cluster assignments\n",
    "MD_m4a = GaussianMixture(n_components=desired_k)\n",
    "MD_m4a.fit(MD_x, MD_m4_clusters)\n",
    "\n",
    "# Compare cluster assignments from K-means and the fitted Gaussian mixture model\n",
    "MD_m4a_clusters = MD_m4a.predict(MD_x)\n",
    "table = pd.crosstab(kmeans_clusters, MD_m4a_clusters, rownames=[\"K-means\"], colnames=[\"Mixture\"])\n",
    "print(table)\n"
   ]
  },
  {
   "cell_type": "code",
   "execution_count": 18,
   "id": "482dda26",
   "metadata": {},
   "outputs": [
    {
     "name": "stdout",
     "output_type": "stream",
     "text": [
      "Log-Likelihood (Mixture Model with Fixed Clusters): 5.879117538292928\n",
      "Log-Likelihood (Fitted Mixture Model): 11.151316714845828\n"
     ]
    }
   ],
   "source": [
    "# Calculate log-likelihoods of the fitted Gaussian mixture models\n",
    "loglik_m4a = MD_m4a.score(MD_x)\n",
    "loglik_m4 = desired_model.score(MD_x)\n",
    "print(f\"Log-Likelihood (Mixture Model with Fixed Clusters): {loglik_m4a}\")\n",
    "print(f\"Log-Likelihood (Fitted Mixture Model): {loglik_m4}\")"
   ]
  },
  {
   "cell_type": "code",
   "execution_count": null,
   "id": "fc3c2d21",
   "metadata": {},
   "outputs": [],
   "source": []
  },
  {
   "cell_type": "code",
   "execution_count": 19,
   "id": "442eca21",
   "metadata": {},
   "outputs": [
    {
     "name": "stdout",
     "output_type": "stream",
     "text": [
      "+1              152\n",
      "+2              187\n",
      "+3              229\n",
      "+4              160\n",
      "-1               58\n",
      "-2               59\n",
      "-3               73\n",
      "-4               71\n",
      "0               169\n",
      "I hate it!-5    152\n",
      "I love it!+5    143\n",
      "Name: Like, dtype: int64\n"
     ]
    }
   ],
   "source": [
    "# Reverse levels of the 'Like' variable\n",
    "like_table = mcdonalds['Like'].value_counts().sort_index(ascending=False)\n",
    "like_table_rev = like_table.iloc[::-1]\n",
    "print(like_table_rev)"
   ]
  },
  {
   "cell_type": "code",
   "execution_count": 20,
   "id": "1d0503f6",
   "metadata": {},
   "outputs": [
    {
     "name": "stdout",
     "output_type": "stream",
     "text": [
      "2.0     160\n",
      "3.0     229\n",
      "4.0     187\n",
      "5.0     152\n",
      "6.0     169\n",
      "7.0      58\n",
      "8.0      59\n",
      "9.0      73\n",
      "10.0     71\n",
      "Name: Like.n, dtype: int64\n"
     ]
    }
   ],
   "source": [
    "# Replace the problematic value with NaN\n",
    "mcdonalds['Like'] = pd.to_numeric(mcdonalds['Like'], errors='coerce')\n",
    "\n",
    "# Create a new variable 'Like.n' by subtracting 'Like' from 6\n",
    "mcdonalds['Like.n'] = 6 - mcdonalds['Like']\n",
    "\n",
    "# Drop rows with NaN values in 'Like.n'\n",
    "mcdonalds = mcdonalds.dropna(subset=['Like.n'])\n",
    "\n",
    "# Create a frequency table of 'Like.n'\n",
    "like_n_table = mcdonalds['Like.n'].value_counts().sort_index()\n",
    "print(like_n_table)"
   ]
  },
  {
   "cell_type": "code",
   "execution_count": 21,
   "id": "75a049b4",
   "metadata": {},
   "outputs": [
    {
     "name": "stdout",
     "output_type": "stream",
     "text": [
      "Like.n ~ yummy + convenient + spicy + fattening + greasy + fast + cheap + tasty + expensive + healthy + disgusting\n"
     ]
    }
   ],
   "source": [
    "# Construct the formula for the regression model\n",
    "formula = 'Like.n ~ ' + ' + '.join(mcdonalds.columns[0:11])\n",
    "print(formula)"
   ]
  },
  {
   "cell_type": "code",
   "execution_count": null,
   "id": "82805540",
   "metadata": {},
   "outputs": [],
   "source": []
  }
 ],
 "metadata": {
  "kernelspec": {
   "display_name": "Python 3 (ipykernel)",
   "language": "python",
   "name": "python3"
  },
  "language_info": {
   "codemirror_mode": {
    "name": "ipython",
    "version": 3
   },
   "file_extension": ".py",
   "mimetype": "text/x-python",
   "name": "python",
   "nbconvert_exporter": "python",
   "pygments_lexer": "ipython3",
   "version": "3.10.11"
  }
 },
 "nbformat": 4,
 "nbformat_minor": 5
}
